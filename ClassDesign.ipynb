{
 "cells": [
  {
   "cell_type": "code",
   "execution_count": 30,
   "id": "c96a3438-26c3-40af-85d7-d5bcbfe83145",
   "metadata": {},
   "outputs": [],
   "source": [
    "from datetime import datetime\n",
    "from dataclasses import dataclass, asdict\n",
    "import json\n",
    "from typing import List"
   ]
  },
  {
   "cell_type": "code",
   "execution_count": 31,
   "id": "880110dc-0f8c-4f86-9ba2-183a655480c9",
   "metadata": {},
   "outputs": [],
   "source": [
    "@dataclass\n",
    "class Envelope:\n",
    "    id: int = 0\n",
    "    \n",
    "    category: str = \"\"\n",
    "    \"\"\"Either 'Cost', 'Emergency', 'Save', 'Spend', or 'Internal'.\"\"\"\n",
    "    notes: str = \"\"\n",
    "    \"\"\"Description or various goals to keep track of for the envelope.\"\"\"\n",
    "\n",
    "    amount: float = 0.0\n",
    "    \"\"\"Amount of money in this envelope.\"\"\"\n",
    "    goal: float = 0.0\n",
    "    \"\"\"The target, ideal amount, or required cost, depending on category.\"\"\"\n",
    "    capped: bool = False\n",
    "    \"\"\"Whether the goal is the maximum of this envelope or if it's okay to add more.\"\"\"\n",
    "\n",
    "    # fmt: \"%Y-%m-%d\"\n",
    "    created: str = None\n",
    "    \"\"\"When the envelope was created.\"\"\"\n",
    "    removed: str = None\n",
    "    \"\"\"When the envelope was retired, None for if it's still active.\"\"\""
   ]
  },
  {
   "cell_type": "code",
   "execution_count": 32,
   "id": "c62e30cf-501b-44e0-97b2-b3afd204ff85",
   "metadata": {},
   "outputs": [],
   "source": [
    "e1 = Envelope(0, \"Cost\", \"stuff, I dunno\", 13.00, 21.00, True)"
   ]
  },
  {
   "cell_type": "code",
   "execution_count": 33,
   "id": "d8826fb6-d295-4ac5-aa2a-799c5db7dbb5",
   "metadata": {},
   "outputs": [
    {
     "data": {
      "text/plain": [
       "Envelope(id=0, category='Cost', notes='stuff, I dunno', amount=13.0, goal=21.0, capped=True, created=None, removed=None)"
      ]
     },
     "execution_count": 33,
     "metadata": {},
     "output_type": "execute_result"
    }
   ],
   "source": [
    "e1"
   ]
  },
  {
   "cell_type": "code",
   "execution_count": 34,
   "id": "8603e642-e711-4113-be14-da8e72def7d3",
   "metadata": {},
   "outputs": [
    {
     "data": {
      "text/plain": [
       "{'id': 0,\n",
       " 'category': 'Cost',\n",
       " 'notes': 'stuff, I dunno',\n",
       " 'amount': 13.0,\n",
       " 'goal': 21.0,\n",
       " 'capped': True,\n",
       " 'created': None,\n",
       " 'removed': None}"
      ]
     },
     "execution_count": 34,
     "metadata": {},
     "output_type": "execute_result"
    }
   ],
   "source": [
    "asdict(e1)"
   ]
  },
  {
   "cell_type": "markdown",
   "id": "5df4f5ea-6891-4696-ad18-8ca3b1b7204b",
   "metadata": {},
   "source": [
    "So we can use the asdict method to get a jsonnable version and then unravel it to make a new instance"
   ]
  },
  {
   "cell_type": "code",
   "execution_count": 35,
   "id": "b9461c7b-535c-44ba-b493-6237b1724409",
   "metadata": {},
   "outputs": [],
   "source": [
    "e2 = Envelope(**asdict(e1))"
   ]
  },
  {
   "cell_type": "code",
   "execution_count": 36,
   "id": "5b237ff2-d7da-494a-bbc8-c1f170b15a20",
   "metadata": {},
   "outputs": [
    {
     "data": {
      "text/plain": [
       "Envelope(id=0, category='Cost', notes='stuff, I dunno', amount=13.0, goal=21.0, capped=True, created=None, removed=None)"
      ]
     },
     "execution_count": 36,
     "metadata": {},
     "output_type": "execute_result"
    }
   ],
   "source": [
    "e2"
   ]
  },
  {
   "cell_type": "code",
   "execution_count": 37,
   "id": "8529a799-2222-4867-aae8-f4df5b105742",
   "metadata": {},
   "outputs": [
    {
     "data": {
      "text/plain": [
       "'{\"id\": 0, \"category\": \"Cost\", \"notes\": \"stuff, I dunno\", \"amount\": 13.0, \"goal\": 21.0, \"capped\": true, \"created\": null, \"removed\": null}'"
      ]
     },
     "execution_count": 37,
     "metadata": {},
     "output_type": "execute_result"
    }
   ],
   "source": [
    "json.dumps(asdict(e1))"
   ]
  },
  {
   "cell_type": "code",
   "execution_count": 38,
   "id": "d25e9172-a6e7-4ae4-bc94-c60c2ae9b882",
   "metadata": {},
   "outputs": [
    {
     "data": {
      "text/plain": [
       "Envelope(id=0, category='Cost', notes='stuff, I dunno', amount=13.0, goal=21.0, capped=True, created=None, removed=None)"
      ]
     },
     "execution_count": 38,
     "metadata": {},
     "output_type": "execute_result"
    }
   ],
   "source": [
    "e3 = Envelope(**json.loads(json.dumps(asdict(e1))))\n",
    "e3"
   ]
  },
  {
   "cell_type": "code",
   "execution_count": null,
   "id": "2e45ed23-1731-457e-a4d4-48daf68fedd4",
   "metadata": {},
   "outputs": [],
   "source": [
    "@dataclass\n",
    "class Transfer:\n",
    "    amount: float = 0.0\n",
    "    \"\"\"The amount of money associated with the transfer....obviously.\"\"\"\n",
    "    tags: List[str]\n",
    "    \n",
    "    transfer_type: str = \"\"\n",
    "    \"\"\"'Income', 'Transfer', 'Expense'.\"\"\"\n",
    "    \n",
    "    from_account_id: int = None\n",
    "    to_account_id: int = None"
   ]
  }
 ],
 "metadata": {
  "kernelspec": {
   "display_name": "Python 3 (ipykernel)",
   "language": "python",
   "name": "python3"
  },
  "language_info": {
   "codemirror_mode": {
    "name": "ipython",
    "version": 3
   },
   "file_extension": ".py",
   "mimetype": "text/x-python",
   "name": "python",
   "nbconvert_exporter": "python",
   "pygments_lexer": "ipython3",
   "version": "3.10.5"
  }
 },
 "nbformat": 4,
 "nbformat_minor": 5
}
