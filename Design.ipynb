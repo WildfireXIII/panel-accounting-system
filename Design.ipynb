{
 "cells": [
  {
   "cell_type": "markdown",
   "id": "f1e436fe-ba70-42fa-9cc0-9e5605c7596e",
   "metadata": {},
   "source": [
    "# Design Document"
   ]
  },
  {
   "cell_type": "markdown",
   "id": "2ac21d61-f620-4311-888f-15b2d5469e9b",
   "metadata": {},
   "source": [
    "## Goals\n",
    "\n",
    "* Track money and savings for specific things\n",
    "* Monitor expenses/see where money is going (don't be \"surprised\" at low or high amounts)\n",
    "* Effectively distribute income according to goals\n",
    "* Predict growth etc.\n",
    "* Allow easily analyzing situations"
   ]
  },
  {
   "cell_type": "markdown",
   "id": "7108149c-86dd-47ec-a6a8-dc571cc99213",
   "metadata": {
    "toc-hr-collapsed": true
   },
   "source": [
    "## Concepts\n",
    "\n",
    "### Envelopes\n",
    "\n",
    "An envelope is what I'm currently using as a row in my google sheet, it's a collection of money for some specific purpose.\n",
    "Envelopes have a category, so even if I add/remove envelopes a lot, I can still easily track in aggregate:\n",
    "\n",
    "* Repeating Cost (make these super easy to enter, these involve a lot fewer modifiable properties since they must always be 100% filled at the beginning of each month)\n",
    "* Emergency\n",
    "* Save\n",
    "* Trivial Spend (might be difficult to determine \"what's save\" and what isn't. I guess stuff I expect to rotate cash through a lot is spend.)\n",
    "* Special (see below)\n"
   ]
  },
  {
   "cell_type": "markdown",
   "id": "3f35c27e-b7d6-476e-a3c9-1f29c0d172b9",
   "metadata": {},
   "source": [
    "There are a few special envelopes that always exist:\n",
    "\n",
    "* Unaccounted (is it really useful to call this an envelope?)\n",
    "* Unaccounted Expense (filled explicitly when I enter expenses and specified no envelope to extract from) (is this actually an envelope? It will always be negative)\n",
    "* Staging Expense (in CC but haven't paid bill yet, but I \"don't have this money\" anymore)"
   ]
  },
  {
   "cell_type": "markdown",
   "id": "4f356503-9ec6-4c8c-9524-ea0227148e83",
   "metadata": {
    "tags": []
   },
   "source": [
    "#### Envelope Properties\n",
    "\n",
    "* Notes\n",
    "* Amount\n",
    "* Amount history\n",
    "* Category\n",
    "* Goal\n",
    "* Capped (bool, true if we don't put more money in once it reaches goal)\n",
    "* Month delta\n",
    "* Associated expenses history"
   ]
  },
  {
   "cell_type": "markdown",
   "id": "0ebaf961-b4ba-4119-826d-bfcedf3161ca",
   "metadata": {},
   "source": [
    "Allow directly transferring money between envelopes, this isn't an \"expense\", but it is stil a change to track. So I need a more generic thing than expense perhaps?\n"
   ]
  },
  {
   "cell_type": "markdown",
   "id": "015a147c-8bd6-4a1d-b960-34a83c37397c",
   "metadata": {},
   "source": [
    "### \"Transfer\"?\n",
    "\n",
    "Possible types: \n",
    "\n",
    "* Income (transfered in from the unaccounted envelope)\n",
    "* Transfer (moved from another non-special envelope)\n",
    "* Expense (moved out and into staging or just \"gone\")\n",
    "* Adjustment (manual adjustment because something got out of whack)"
   ]
  },
  {
   "cell_type": "markdown",
   "id": "4e828c0c-1622-4bed-a91c-f5c1d78fe010",
   "metadata": {},
   "source": [
    "### Expenses (subcategory of transfer?)\n",
    "\n",
    "* Amount\n",
    "* Tags/expense category\n",
    "* Date entered\n",
    "* Date processed (this will be the same for \"Transfer?\" objects)\n",
    "* Description\n",
    "* Accounted? (program handles)\n",
    "* Associated Envelopes Accounted From (if we specify more than one, that actually needs to create multiple expenses)\n",
    "\n",
    "\n",
    "Entering expenses should be fast.\n",
    "\n",
    "However, when entering, allow to directly specify an envelope to pull from"
   ]
  },
  {
   "cell_type": "markdown",
   "id": "a6dccb7b-2a15-4e66-9caa-2adc731d0663",
   "metadata": {},
   "source": [
    "## Other Things to Track\n",
    "\n",
    "* \"Expected income?\""
   ]
  },
  {
   "cell_type": "markdown",
   "id": "10e75a42-65a4-400a-b12d-4319505d34b2",
   "metadata": {},
   "source": [
    "## Actions\n",
    "\n",
    "* Enter expense\n",
    "* Process unaccounted expenses (every time process expense and grab from envelopes, that makes it accounted for)\n",
    "* Quick-add/update repeated-cost envelopes\n",
    "* ~~Add/remove accounts~~\n",
    "* Update accounts\n",
    "* Update expected income\n",
    "* Update **distribution plan** (this is what I'm going to title the percentages/goals stuff for distributing unaccounted income)\n",
    "* Distribute unaccounted income to envelopes according to **distribution plan** (is this considered a transfer?)\n",
    "* ~~Transfer between envelopes (this isn't an expense, how do I track?)~~\n",
    "* Add/remove envelopes\n",
    "* View insights dashboard\n",
    "* View/edit transfers and their tags.\n",
    "* Add theoretical costs/incomes/distribution plans and see predicted impact over time\n",
    "* Revert state/rollback"
   ]
  },
  {
   "cell_type": "markdown",
   "id": "6c980637-3404-4118-90d0-adfa2ef246bf",
   "metadata": {},
   "source": [
    "## Insights Dashboard\n",
    "\n",
    "* What percentage of income is required repeated costs?\n",
    "* How long can required repeated costs be sustained by emergency envelopes?\n",
    "* What does your overall income trend look like?\n",
    "* How often are you spending more than expected?\n",
    "* What's the breakdown of expense tags?\n",
    "* How many envelopes and how often are they below trend (meaning you've stopped saving as much recently)"
   ]
  },
  {
   "cell_type": "markdown",
   "id": "937495f6-7e85-4a14-82a9-9b89381a3553",
   "metadata": {},
   "source": [
    "## Tables\n",
    "\n",
    "\n",
    "* JSON: the envelopes data/current amounts\n",
    "* CSV: Envelope histories (record every month start/end?) (make sure to include the _goal_ as well)\n",
    "* CSV: Transfers\n",
    "* JSON: Overall data (expense tags list, expected income)\n",
    "* CSV: Account histories (record every month start/end)\n",
    "* JSON: accounts data"
   ]
  },
  {
   "cell_type": "markdown",
   "id": "19083c71-e204-4a69-b1f8-67ab42205dae",
   "metadata": {},
   "source": [
    "## Notes\n",
    "\n",
    "Expenses may also need a field to track whether they're in staging or not?\n",
    "\n",
    "For distribution plan, need a \"clean remainder\" to take anything that doesn't fit nicely elsewhere and \n",
    "\n",
    "\n",
    "For drawing graph of envelopes, \"down\" direction slope could be represented either white normally, or red for expense transfers\n",
    "\n",
    "Distribution plans can have \"rounds\", e.g. round 1 is just completely filling cost envelopes to cap, maybe round 3 is distributing (expected) amounts to save envelopes, and so on.\n",
    "\n",
    "Transfer from accounts to \"unaccounted\" envelope is income.\n",
    "\n",
    "\n",
    "\"Expense Queue\" amount literally shouldn't factor in to anything, it's solely the \"expenses I need to think about\" at some point\n",
    "\n",
    "\n",
    "\n",
    "Account history should prob be taken roughly once a month/when I do big accounting (income) stuff\n",
    "Envelope history could be pretty regular"
   ]
  },
  {
   "cell_type": "markdown",
   "id": "b7994acd-9984-4ed0-a099-4eb599219edf",
   "metadata": {},
   "source": [
    "## Overall Page\n",
    "\n",
    "\n",
    "* Enter expense button\n",
    "* Total money, total per account category\n",
    "* Expected income/actual vs target max spend\n",
    "* Accounts section\n",
    "* Button to pull accounts into envelopes (button to display/hide graphs in header, range slider to alter graph lengths)\n",
    "* Envelopes (+ button in each section to add new) (Possibly also buttons to change organization (sectioned by category or by tag(?))\n",
    "\n",
    "(put these into separate pages?)\n",
    "\n",
    "* Transfers table\n",
    "* Accounts History\n",
    "* Envelopes History\n",
    "* Insights"
   ]
  },
  {
   "cell_type": "markdown",
   "id": "f72b50ce-36f3-4022-bbff-16a3b6e9a0a7",
   "metadata": {},
   "source": [
    "# Issues"
   ]
  },
  {
   "cell_type": "markdown",
   "id": "8102bb84-924d-43a3-8410-92347e6d9e81",
   "metadata": {},
   "source": [
    "* ~~Envelope amounts are determined by their baseline from last snapshot + transfers since the last snapshot date. This won't handle queued but not staged expenses? (because if you update their amount, it might before last snapshot.)~~ To resolve, envelope updates must check for date_entered OR date_processed past snapshot date"
   ]
  },
  {
   "cell_type": "markdown",
   "id": "2d5fcdf0-475e-4ebe-a35e-079132ebb3dc",
   "metadata": {},
   "source": [
    "# Next\n",
    "\n",
    "* Add distribution planning, (table where you can edit percentages and stuff)\n",
    "* Apply distribution button."
   ]
  }
 ],
 "metadata": {
  "kernelspec": {
   "display_name": "Python 3 (ipykernel)",
   "language": "python",
   "name": "python3"
  },
  "language_info": {
   "codemirror_mode": {
    "name": "ipython",
    "version": 3
   },
   "file_extension": ".py",
   "mimetype": "text/x-python",
   "name": "python",
   "nbconvert_exporter": "python",
   "pygments_lexer": "ipython3",
   "version": "3.10.5"
  }
 },
 "nbformat": 4,
 "nbformat_minor": 5
}
